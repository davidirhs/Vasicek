{
  "nbformat": 4,
  "nbformat_minor": 0,
  "metadata": {
    "colab": {
      "name": "Matlab.ipynb",
      "provenance": []
    },
    "kernelspec": {
      "name": "python3",
      "display_name": "Python 3"
    },
    "accelerator": "GPU",
    "widgets": {
      "application/vnd.jupyter.widget-state+json": {
        "97f94ab9f7964c08ab4f829bcee54940": {
          "model_module": "@jupyter-widgets/controls",
          "model_name": "FileUploadModel",
          "state": {
            "_view_name": "FileUploadView",
            "_counter": 1,
            "style": "IPY_MODEL_2b4b061392164001984aaa1bb45368e2",
            "_dom_classes": [],
            "description": "Upload",
            "multiple": false,
            "_model_name": "FileUploadModel",
            "data": [
              null
            ],
            "button_style": "",
            "_view_module": "@jupyter-widgets/controls",
            "_model_module_version": "1.5.0",
            "accept": "",
            "_view_count": null,
            "disabled": false,
            "_view_module_version": "1.5.0",
            "error": "",
            "description_tooltip": null,
            "metadata": [
              {
                "name": "CSVTEST.csv",
                "type": "application/vnd.ms-excel",
                "size": 60,
                "lastModified": 1614007343463
              }
            ],
            "_model_module": "@jupyter-widgets/controls",
            "layout": "IPY_MODEL_1c1064f9ca2741498491a7747860f357",
            "icon": "upload"
          }
        },
        "2b4b061392164001984aaa1bb45368e2": {
          "model_module": "@jupyter-widgets/controls",
          "model_name": "ButtonStyleModel",
          "state": {
            "_view_name": "StyleView",
            "_model_name": "ButtonStyleModel",
            "_view_module": "@jupyter-widgets/base",
            "_model_module_version": "1.5.0",
            "_view_count": null,
            "button_color": null,
            "font_weight": "",
            "_view_module_version": "1.2.0",
            "_model_module": "@jupyter-widgets/controls"
          }
        },
        "1c1064f9ca2741498491a7747860f357": {
          "model_module": "@jupyter-widgets/base",
          "model_name": "LayoutModel",
          "state": {
            "_view_name": "LayoutView",
            "grid_template_rows": null,
            "right": null,
            "justify_content": null,
            "_view_module": "@jupyter-widgets/base",
            "overflow": null,
            "_model_module_version": "1.2.0",
            "_view_count": null,
            "flex_flow": null,
            "width": null,
            "min_width": null,
            "border": null,
            "align_items": null,
            "bottom": null,
            "_model_module": "@jupyter-widgets/base",
            "top": null,
            "grid_column": null,
            "overflow_y": null,
            "overflow_x": null,
            "grid_auto_flow": null,
            "grid_area": null,
            "grid_template_columns": null,
            "flex": null,
            "_model_name": "LayoutModel",
            "justify_items": null,
            "grid_row": null,
            "max_height": null,
            "align_content": null,
            "visibility": null,
            "align_self": null,
            "height": null,
            "min_height": null,
            "padding": null,
            "grid_auto_rows": null,
            "grid_gap": null,
            "max_width": null,
            "order": null,
            "_view_module_version": "1.2.0",
            "grid_template_areas": null,
            "object_position": null,
            "object_fit": null,
            "grid_auto_columns": null,
            "margin": null,
            "display": null,
            "left": null
          }
        },
        "96efe2c767d9403d980124a850259562": {
          "model_module": "@jupyter-widgets/controls",
          "model_name": "ButtonModel",
          "state": {
            "_view_name": "ButtonView",
            "style": "IPY_MODEL_86d365c738f042678fd4ad99620cc890",
            "_dom_classes": [],
            "description": "Clasificar",
            "_model_name": "ButtonModel",
            "button_style": "",
            "_view_module": "@jupyter-widgets/controls",
            "_model_module_version": "1.5.0",
            "tooltip": "",
            "_view_count": null,
            "disabled": false,
            "_view_module_version": "1.5.0",
            "layout": "IPY_MODEL_2bbac423c5eb44809ec5587aef6cbc72",
            "_model_module": "@jupyter-widgets/controls",
            "icon": ""
          }
        },
        "86d365c738f042678fd4ad99620cc890": {
          "model_module": "@jupyter-widgets/controls",
          "model_name": "ButtonStyleModel",
          "state": {
            "_view_name": "StyleView",
            "_model_name": "ButtonStyleModel",
            "_view_module": "@jupyter-widgets/base",
            "_model_module_version": "1.5.0",
            "_view_count": null,
            "button_color": null,
            "font_weight": "",
            "_view_module_version": "1.2.0",
            "_model_module": "@jupyter-widgets/controls"
          }
        },
        "2bbac423c5eb44809ec5587aef6cbc72": {
          "model_module": "@jupyter-widgets/base",
          "model_name": "LayoutModel",
          "state": {
            "_view_name": "LayoutView",
            "grid_template_rows": null,
            "right": null,
            "justify_content": null,
            "_view_module": "@jupyter-widgets/base",
            "overflow": null,
            "_model_module_version": "1.2.0",
            "_view_count": null,
            "flex_flow": null,
            "width": null,
            "min_width": null,
            "border": null,
            "align_items": null,
            "bottom": null,
            "_model_module": "@jupyter-widgets/base",
            "top": null,
            "grid_column": null,
            "overflow_y": null,
            "overflow_x": null,
            "grid_auto_flow": null,
            "grid_area": null,
            "grid_template_columns": null,
            "flex": null,
            "_model_name": "LayoutModel",
            "justify_items": null,
            "grid_row": null,
            "max_height": null,
            "align_content": null,
            "visibility": null,
            "align_self": null,
            "height": null,
            "min_height": null,
            "padding": null,
            "grid_auto_rows": null,
            "grid_gap": null,
            "max_width": null,
            "order": null,
            "_view_module_version": "1.2.0",
            "grid_template_areas": null,
            "object_position": null,
            "object_fit": null,
            "grid_auto_columns": null,
            "margin": null,
            "display": null,
            "left": null
          }
        }
      }
    }
  },
  "cells": [
    {
      "cell_type": "code",
      "metadata": {
        "colab": {
          "base_uri": "https://localhost:8080/"
        },
        "id": "EWmWhgsDaw1U",
        "outputId": "dcdd7f75-2c10-4b46-8607-d4ec154e554d"
      },
      "source": [
        "!pip install -Uqq fastbook\r\n",
        "import fastbook\r\n",
        "fastbook.setup_book()"
      ],
      "execution_count": 1,
      "outputs": [
        {
          "output_type": "stream",
          "text": [
            "\u001b[K     |████████████████████████████████| 727kB 8.2MB/s \n",
            "\u001b[K     |████████████████████████████████| 51kB 7.0MB/s \n",
            "\u001b[K     |████████████████████████████████| 1.2MB 17.0MB/s \n",
            "\u001b[K     |████████████████████████████████| 194kB 50.7MB/s \n",
            "\u001b[K     |████████████████████████████████| 61kB 9.8MB/s \n",
            "\u001b[?25hMounted at /content/gdrive\n"
          ],
          "name": "stdout"
        }
      ]
    },
    {
      "cell_type": "code",
      "metadata": {
        "id": "Eb1tNHcnajzQ"
      },
      "source": [
        "from fastai.vision.widgets import *\r\n",
        "from random import uniform\r\n",
        "import numpy as np\r\n",
        "from scipy.stats import norm,norminvgauss\r\n",
        "import math  \r\n",
        "import matplotlib.pyplot as plt\r\n",
        "import seaborn as sns\r\n",
        "import pandas as pd"
      ],
      "execution_count": 2,
      "outputs": []
    },
    {
      "cell_type": "code",
      "metadata": {
        "id": "gX6QzZ_Lb2O-"
      },
      "source": [
        ""
      ],
      "execution_count": null,
      "outputs": []
    },
    {
      "cell_type": "markdown",
      "metadata": {
        "id": "qrI8gJZ1b7KR"
      },
      "source": [
        "# Programa\r\n",
        "Este programa encuentra la probabilidad de incumplimiento basado en el modelo Vasicek\r\n",
        "Los parametros requeridos son lgd (perdida dada por defecto) k (capital requerido o  solo capital simple)\r\n",
        "% hallazgo implica probabilidad predeterminada (iDP)\r\n",
        "resolución de ecuaciones no lineales de base de probabilidad implícita en el modelo de Vasicek y capital requerido"
      ]
    },
    {
      "cell_type": "code",
      "metadata": {
        "id": "IKvqvtZUcdbM"
      },
      "source": [
        ""
      ],
      "execution_count": null,
      "outputs": []
    },
    {
      "cell_type": "markdown",
      "metadata": {
        "id": "BDu92Mj3c9zh"
      },
      "source": [
        "# Dataset\r\n",
        "Subimos el dataset, estableciendo el path y la ruta"
      ]
    },
    {
      "cell_type": "code",
      "metadata": {
        "id": "kyxEgGJodHBL"
      },
      "source": [
        "path=\"/content/gdrive/My Drive/Kaggle\"\r\n"
      ],
      "execution_count": 3,
      "outputs": []
    },
    {
      "cell_type": "code",
      "metadata": {
        "id": "UuQNDjmHdKPH"
      },
      "source": [
        "df = pd.read_csv(path+\"/Matlab/CSVTEST.csv\", low_memory=False)\r\n"
      ],
      "execution_count": 4,
      "outputs": []
    },
    {
      "cell_type": "markdown",
      "metadata": {
        "id": "5uBgeCxDdX8v"
      },
      "source": [
        "Tomamos el numero de filas del dataset"
      ]
    },
    {
      "cell_type": "code",
      "metadata": {
        "id": "zvleBnG3dfs3"
      },
      "source": [
        "t=df.shape[0]"
      ],
      "execution_count": 9,
      "outputs": []
    },
    {
      "cell_type": "markdown",
      "metadata": {
        "id": "EnPcGqHPdiWF"
      },
      "source": [
        "Extraemos el dataset como arrays"
      ]
    },
    {
      "cell_type": "code",
      "metadata": {
        "id": "clxw6lxvdrVZ"
      },
      "source": [
        "lgd = np.array(df[\"lgd\"]).reshape((t,1))\r\n",
        "loan = np.array(df[\"loan\"]).reshape((t,1))\r\n",
        "cntgn = np.array(df[\"cntgn\"]).reshape((t,1))\r\n",
        "iPD = np.array(df[\"iPD\"]).reshape((t,1))\r\n",
        "NoS = 1000000"
      ],
      "execution_count": 10,
      "outputs": []
    },
    {
      "cell_type": "markdown",
      "metadata": {
        "id": "7kxiHHyTdw2W"
      },
      "source": [
        "Corremos la función"
      ]
    },
    {
      "cell_type": "code",
      "metadata": {
        "colab": {
          "base_uri": "https://localhost:8080/"
        },
        "id": "Z9ujBjwLdzfl",
        "outputId": "d8dc6301-35db-49af-e1a0-935fd41e9388"
      },
      "source": [
        "fLossDistSim(iPD, lgd, loan, cntgn,NoS)"
      ],
      "execution_count": 11,
      "outputs": [
        {
          "output_type": "execute_result",
          "data": {
            "text/plain": [
              "array([[3.03071303e+05],\n",
              "       [2.03584876e+02]])"
            ]
          },
          "metadata": {
            "tags": []
          },
          "execution_count": 11
        }
      ]
    },
    {
      "cell_type": "markdown",
      "metadata": {
        "id": "XhbZTA4Td0_P"
      },
      "source": [
        "# Funcion Rho Ecuacion 10\r\n",
        "Aplica para cierto tipo de exposiciones crediticias, pero suponemos que toda la cartera crediticia\r\n",
        "es de este tipo de créditos."
      ]
    },
    {
      "cell_type": "code",
      "metadata": {
        "id": "CtzoH7IRd6jB"
      },
      "source": [
        "def frho(iPD):\r\n",
        "    rho = .12 * (1 - np.exp(-50 * iPD) / (1 - np.exp(-50))) + .24 * (1 - (1 - np.exp(-50 * iPD) / (1 - np.exp(-50))))\r\n",
        "    return rho"
      ],
      "execution_count": 6,
      "outputs": []
    },
    {
      "cell_type": "markdown",
      "metadata": {
        "id": "i-DLQnnTechd"
      },
      "source": [
        "# Funcion fLossDistSim\r\n"
      ]
    },
    {
      "cell_type": "code",
      "metadata": {
        "id": "SHkbpNvremzE"
      },
      "source": [
        "def fLossDistSim(iPD, lgd, loan, cntgn,NoS):\r\n",
        "\r\n",
        "    global df\r\n",
        "    x = np.random.rand(1, NoS)\r\n",
        "    rho = frho(iPD)\r\n",
        "# VaR999 - value at risk 99.9% valor esperado al 99.9\r\n",
        "    var999 = lgd * norm.cdf((np.sqrt(1 / (1 - rho))) * norm.ppf(iPD, 0, 1) + (np.sqrt(rho / (1 - rho))) *norm.ppf(0.999, 0, 1), 0, 1)\r\n",
        "# simulated loans LGD * \r\n",
        "    L = lgd * norm.cdf((np.sqrt(1 / (1 - rho))) * norm.ppf(iPD, 0, 1) + (np.sqrt(rho / (1 - rho))) * norm.ppf(x, 0, 1), 0, 1)\r\n",
        "  \r\n",
        "    \r\n",
        "    L1 = L * loan\r\n",
        "    L0 = L1 - var999 * loan\r\n",
        "    L3 = var999 * loan *lgd\r\n",
        "    L2 = iPD * lgd * loan\r\n",
        "    formula7=L3-L2\r\n",
        "    ##total loan pd Avg LGD\r\n",
        "    ##Formula 7 Capital\r\n",
        "#     L0 = L1 - var999 * loan \r\n",
        "    \r\n",
        "    #Expected Loss\r\n",
        "# #     plt.hist(L.flatten(), bins=2000)\r\n",
        "# #     plt.show()\r\n",
        "#     #Cuanto puedes perder fuera del tail Expected Value\r\n",
        "#     ind=np.transpose(np.where(L>var999,L,0))\r\n",
        "#     ind=ind[(ind>0)]\r\n",
        "# #     plt.hist(ind.flatten(), bins=2000)\r\n",
        "# #     plt.show()\r\n",
        "    F=formula7\r\n",
        "    df=df.assign(F=F)\r\n",
        "    df.to_csv (\"t.csv\", index = False, header=True)"
      ],
      "execution_count": 34,
      "outputs": []
    },
    {
      "cell_type": "markdown",
      "metadata": {
        "id": "5iVlO60pfRVi"
      },
      "source": [
        "# Produccion\r\n",
        "Permitimos subir el dataframe"
      ]
    },
    {
      "cell_type": "code",
      "metadata": {
        "colab": {
          "base_uri": "https://localhost:8080/",
          "height": 49,
          "referenced_widgets": [
            "97f94ab9f7964c08ab4f829bcee54940",
            "2b4b061392164001984aaa1bb45368e2",
            "1c1064f9ca2741498491a7747860f357"
          ]
        },
        "id": "P9ds5Cd7fZpP",
        "outputId": "638188cb-2e12-496e-832f-ed1d101ce1f0"
      },
      "source": [
        "btn_upload = widgets.FileUpload()\r\n",
        "btn_upload"
      ],
      "execution_count": 37,
      "outputs": [
        {
          "output_type": "display_data",
          "data": {
            "application/vnd.jupyter.widget-view+json": {
              "model_id": "97f94ab9f7964c08ab4f829bcee54940",
              "version_minor": 0,
              "version_major": 2
            },
            "text/plain": [
              "FileUpload(value={}, description='Upload')"
            ]
          },
          "metadata": {
            "tags": []
          }
        }
      ]
    },
    {
      "cell_type": "code",
      "metadata": {
        "id": "1YIMLbx0h48c"
      },
      "source": [
        "with open(\"CSVTEST.csv\", \"w+b\") as i:\r\n",
        "    i.write(btn_upload.data[0])"
      ],
      "execution_count": 38,
      "outputs": []
    },
    {
      "cell_type": "code",
      "metadata": {
        "id": "fcXgA--ogmuC"
      },
      "source": [
        "df = pd.read_csv(\"CSVTEST.csv\", low_memory=False)"
      ],
      "execution_count": 39,
      "outputs": []
    },
    {
      "cell_type": "code",
      "metadata": {
        "colab": {
          "base_uri": "https://localhost:8080/",
          "height": 49,
          "referenced_widgets": [
            "96efe2c767d9403d980124a850259562",
            "86d365c738f042678fd4ad99620cc890",
            "2bbac423c5eb44809ec5587aef6cbc72"
          ]
        },
        "id": "nW-CSC1qfaWu",
        "outputId": "f0188a9d-54cf-4e25-e1b7-cbd74da4d551"
      },
      "source": [
        "btn_run = widgets.Button(description='Clasificar')\r\n",
        "btn_run"
      ],
      "execution_count": 40,
      "outputs": [
        {
          "output_type": "display_data",
          "data": {
            "application/vnd.jupyter.widget-view+json": {
              "model_id": "96efe2c767d9403d980124a850259562",
              "version_minor": 0,
              "version_major": 2
            },
            "text/plain": [
              "Button(description='Clasificar', style=ButtonStyle())"
            ]
          },
          "metadata": {
            "tags": []
          }
        }
      ]
    },
    {
      "cell_type": "markdown",
      "metadata": {
        "id": "JBbPdq-Uf0Ha"
      },
      "source": [
        "También necesitaremos un * controlador de eventos de clic *; es decir, una función que se llamará cuando se presione. Podemos simplemente copiar las líneas de código de arriba:"
      ]
    },
    {
      "cell_type": "code",
      "metadata": {
        "id": "vNROQ-K8ftPT"
      },
      "source": [
        "def on_click_classify(change):\r\n",
        "    with open(\"CSVTEST.csv\", \"w+b\") as i:\r\n",
        "      i.write(btn_upload.data[0])\r\n",
        "    df = pd.read_csv(\"CSVTEST.csv\", low_memory=False)\r\n",
        "    t=df.shape[0]\r\n",
        "    lgd = np.array(df[\"lgd\"]).reshape((t,1))\r\n",
        "    loan = np.array(df[\"loan\"]).reshape((t,1))\r\n",
        "    cntgn = np.array(df[\"cntgn\"]).reshape((t,1))\r\n",
        "    iPD = np.array(df[\"iPD\"]).reshape((t,1))\r\n",
        "    NoS = 1000000\r\n",
        "    fLossDistSim(iPD, lgd, loan, cntgn,NoS)\r\n",
        "\r\n",
        "btn_run.on_click(on_click_classify)"
      ],
      "execution_count": 41,
      "outputs": []
    },
    {
      "cell_type": "code",
      "metadata": {
        "id": "gE1mkQV7jGZV"
      },
      "source": [
        ""
      ],
      "execution_count": null,
      "outputs": []
    },
    {
      "cell_type": "code",
      "metadata": {
        "colab": {
          "base_uri": "https://localhost:8080/",
          "height": 1000
        },
        "id": "2tCe7wyXl4ZZ",
        "outputId": "0695f6db-00b0-4c85-a782-6d003968caff"
      },
      "source": [
        "!pip install voila\r\n",
        "!jupyter serverextension enable --sys-prefix voila"
      ],
      "execution_count": 36,
      "outputs": [
        {
          "output_type": "stream",
          "text": [
            "Collecting voila\n",
            "\u001b[?25l  Downloading https://files.pythonhosted.org/packages/45/a4/4c79fec6bd6585cba34892824e057273b9256936eb5f85421bc4bd4da616/voila-0.2.7-py3-none-any.whl (2.5MB)\n",
            "\u001b[K     |████████████████████████████████| 2.5MB 7.9MB/s \n",
            "\u001b[?25hCollecting nbconvert<7,>=6.0.0\n",
            "\u001b[?25l  Downloading https://files.pythonhosted.org/packages/13/2f/acbe7006548f3914456ee47f97a2033b1b2f3daf921b12ac94105d87c163/nbconvert-6.0.7-py3-none-any.whl (552kB)\n",
            "\u001b[K     |████████████████████████████████| 552kB 45.8MB/s \n",
            "\u001b[?25hCollecting jupyter-server<2.0.0,>=0.3.0\n",
            "\u001b[?25l  Downloading https://files.pythonhosted.org/packages/00/4e/88ebdbdaa7b56a15ff88b6af94473ec029a16fe3154928275b6d07f864a7/jupyter_server-1.4.0-py3-none-any.whl (241kB)\n",
            "\u001b[K     |████████████████████████████████| 245kB 50.4MB/s \n",
            "\u001b[?25hCollecting jupyter-client<7,>=6.1.3\n",
            "\u001b[?25l  Downloading https://files.pythonhosted.org/packages/83/d6/30aed7ef13ff3f359e99626c1b0a32ebbc3bf9b9d5616ec46e9e245d5fa9/jupyter_client-6.1.11-py3-none-any.whl (108kB)\n",
            "\u001b[K     |████████████████████████████████| 112kB 26.8MB/s \n",
            "\u001b[?25hRequirement already satisfied: nbclient<0.6,>=0.4.0 in /usr/local/lib/python3.6/dist-packages (from voila) (0.5.2)\n",
            "Requirement already satisfied: jupyterlab-pygments in /usr/local/lib/python3.6/dist-packages (from nbconvert<7,>=6.0.0->voila) (0.1.2)\n",
            "Requirement already satisfied: pandocfilters>=1.4.1 in /usr/local/lib/python3.6/dist-packages (from nbconvert<7,>=6.0.0->voila) (1.4.3)\n",
            "Requirement already satisfied: defusedxml in /usr/local/lib/python3.6/dist-packages (from nbconvert<7,>=6.0.0->voila) (0.6.0)\n",
            "Requirement already satisfied: testpath in /usr/local/lib/python3.6/dist-packages (from nbconvert<7,>=6.0.0->voila) (0.4.4)\n",
            "Requirement already satisfied: bleach in /usr/local/lib/python3.6/dist-packages (from nbconvert<7,>=6.0.0->voila) (3.3.0)\n",
            "Requirement already satisfied: mistune<2,>=0.8.1 in /usr/local/lib/python3.6/dist-packages (from nbconvert<7,>=6.0.0->voila) (0.8.4)\n",
            "Requirement already satisfied: jupyter-core in /usr/local/lib/python3.6/dist-packages (from nbconvert<7,>=6.0.0->voila) (4.7.1)\n",
            "Requirement already satisfied: entrypoints>=0.2.2 in /usr/local/lib/python3.6/dist-packages (from nbconvert<7,>=6.0.0->voila) (0.3)\n",
            "Requirement already satisfied: pygments>=2.4.1 in /usr/local/lib/python3.6/dist-packages (from nbconvert<7,>=6.0.0->voila) (2.6.1)\n",
            "Requirement already satisfied: jinja2>=2.4 in /usr/local/lib/python3.6/dist-packages (from nbconvert<7,>=6.0.0->voila) (2.11.3)\n",
            "Requirement already satisfied: traitlets>=4.2 in /usr/local/lib/python3.6/dist-packages (from nbconvert<7,>=6.0.0->voila) (4.3.3)\n",
            "Requirement already satisfied: nbformat>=4.4 in /usr/local/lib/python3.6/dist-packages (from nbconvert<7,>=6.0.0->voila) (5.1.2)\n",
            "Requirement already satisfied: Send2Trash in /usr/local/lib/python3.6/dist-packages (from jupyter-server<2.0.0,>=0.3.0->voila) (1.5.0)\n",
            "Requirement already satisfied: terminado>=0.8.3 in /usr/local/lib/python3.6/dist-packages (from jupyter-server<2.0.0,>=0.3.0->voila) (0.9.2)\n",
            "Collecting anyio>=2.0.2\n",
            "\u001b[?25l  Downloading https://files.pythonhosted.org/packages/b4/e5/a5aaca991a72839ea76162e81b48377db444d9ab3d32ccdaa267417ce0e9/anyio-2.1.0-py3-none-any.whl (64kB)\n",
            "\u001b[K     |████████████████████████████████| 71kB 11.0MB/s \n",
            "\u001b[?25hRequirement already satisfied: prometheus-client in /usr/local/lib/python3.6/dist-packages (from jupyter-server<2.0.0,>=0.3.0->voila) (0.9.0)\n",
            "Requirement already satisfied: ipython-genutils in /usr/local/lib/python3.6/dist-packages (from jupyter-server<2.0.0,>=0.3.0->voila) (0.2.0)\n",
            "Collecting tornado>=6.1.0\n",
            "\u001b[?25l  Downloading https://files.pythonhosted.org/packages/85/26/e710295dcb4aac62b08f22d07efc899574476db37532159a7f71713cdaf2/tornado-6.1-cp36-cp36m-manylinux2010_x86_64.whl (427kB)\n",
            "\u001b[K     |████████████████████████████████| 430kB 47.3MB/s \n",
            "\u001b[?25hRequirement already satisfied: pyzmq>=17 in /usr/local/lib/python3.6/dist-packages (from jupyter-server<2.0.0,>=0.3.0->voila) (22.0.2)\n",
            "Requirement already satisfied: python-dateutil>=2.1 in /usr/local/lib/python3.6/dist-packages (from jupyter-client<7,>=6.1.3->voila) (2.8.1)\n",
            "Requirement already satisfied: nest-asyncio in /usr/local/lib/python3.6/dist-packages (from nbclient<0.6,>=0.4.0->voila) (1.5.1)\n",
            "Requirement already satisfied: async-generator in /usr/local/lib/python3.6/dist-packages (from nbclient<0.6,>=0.4.0->voila) (1.10)\n",
            "Requirement already satisfied: six>=1.9.0 in /usr/local/lib/python3.6/dist-packages (from bleach->nbconvert<7,>=6.0.0->voila) (1.15.0)\n",
            "Requirement already satisfied: packaging in /usr/local/lib/python3.6/dist-packages (from bleach->nbconvert<7,>=6.0.0->voila) (20.9)\n",
            "Requirement already satisfied: webencodings in /usr/local/lib/python3.6/dist-packages (from bleach->nbconvert<7,>=6.0.0->voila) (0.5.1)\n",
            "Requirement already satisfied: MarkupSafe>=0.23 in /usr/local/lib/python3.6/dist-packages (from jinja2>=2.4->nbconvert<7,>=6.0.0->voila) (1.1.1)\n",
            "Requirement already satisfied: decorator in /usr/local/lib/python3.6/dist-packages (from traitlets>=4.2->nbconvert<7,>=6.0.0->voila) (4.4.2)\n",
            "Requirement already satisfied: jsonschema!=2.5.0,>=2.4 in /usr/local/lib/python3.6/dist-packages (from nbformat>=4.4->nbconvert<7,>=6.0.0->voila) (2.6.0)\n",
            "Requirement already satisfied: ptyprocess; os_name != \"nt\" in /usr/local/lib/python3.6/dist-packages (from terminado>=0.8.3->jupyter-server<2.0.0,>=0.3.0->voila) (0.7.0)\n",
            "Requirement already satisfied: idna>=2.8 in /usr/local/lib/python3.6/dist-packages (from anyio>=2.0.2->jupyter-server<2.0.0,>=0.3.0->voila) (2.10)\n",
            "Requirement already satisfied: dataclasses; python_version < \"3.7\" in /usr/local/lib/python3.6/dist-packages (from anyio>=2.0.2->jupyter-server<2.0.0,>=0.3.0->voila) (0.8)\n",
            "Requirement already satisfied: typing-extensions; python_version < \"3.8\" in /usr/local/lib/python3.6/dist-packages (from anyio>=2.0.2->jupyter-server<2.0.0,>=0.3.0->voila) (3.7.4.3)\n",
            "Collecting sniffio>=1.1\n",
            "  Downloading https://files.pythonhosted.org/packages/52/b0/7b2e028b63d092804b6794595871f936aafa5e9322dcaaad50ebf67445b3/sniffio-1.2.0-py3-none-any.whl\n",
            "Requirement already satisfied: pyparsing>=2.0.2 in /usr/local/lib/python3.6/dist-packages (from packaging->bleach->nbconvert<7,>=6.0.0->voila) (2.4.7)\n",
            "Collecting contextvars>=2.1; python_version < \"3.7\"\n",
            "  Downloading https://files.pythonhosted.org/packages/83/96/55b82d9f13763be9d672622e1b8106c85acb83edd7cc2fa5bc67cd9877e9/contextvars-2.4.tar.gz\n",
            "Collecting immutables>=0.9\n",
            "\u001b[?25l  Downloading https://files.pythonhosted.org/packages/4a/52/e64a14a99c509cbdfe0405e9f076aef0331cb9548a3efa1d5bacd524978a/immutables-0.15-cp36-cp36m-manylinux1_x86_64.whl (100kB)\n",
            "\u001b[K     |████████████████████████████████| 102kB 14.0MB/s \n",
            "\u001b[?25hBuilding wheels for collected packages: contextvars\n",
            "  Building wheel for contextvars (setup.py) ... \u001b[?25l\u001b[?25hdone\n",
            "  Created wheel for contextvars: filename=contextvars-2.4-cp36-none-any.whl size=7667 sha256=84592a665f1060ed3bf46c29934392e55d46a2d6c4a641142feca26b9b867e4f\n",
            "  Stored in directory: /root/.cache/pip/wheels/a5/7d/68/1ebae2668bda2228686e3c1cf16f2c2384cea6e9334ad5f6de\n",
            "Successfully built contextvars\n",
            "\u001b[31mERROR: nbdev 1.1.12 has requirement nbconvert<6, but you'll have nbconvert 6.0.7 which is incompatible.\u001b[0m\n",
            "\u001b[31mERROR: google-colab 1.0.0 has requirement tornado~=5.1.0; python_version >= \"3.0\", but you'll have tornado 6.1 which is incompatible.\u001b[0m\n",
            "Installing collected packages: nbconvert, immutables, contextvars, sniffio, anyio, tornado, jupyter-client, jupyter-server, voila\n",
            "  Found existing installation: nbconvert 5.6.1\n",
            "    Uninstalling nbconvert-5.6.1:\n",
            "      Successfully uninstalled nbconvert-5.6.1\n",
            "  Found existing installation: tornado 5.1.1\n",
            "    Uninstalling tornado-5.1.1:\n",
            "      Successfully uninstalled tornado-5.1.1\n",
            "  Found existing installation: jupyter-client 5.3.5\n",
            "    Uninstalling jupyter-client-5.3.5:\n",
            "      Successfully uninstalled jupyter-client-5.3.5\n",
            "Successfully installed anyio-2.1.0 contextvars-2.4 immutables-0.15 jupyter-client-6.1.11 jupyter-server-1.4.0 nbconvert-6.0.7 sniffio-1.2.0 tornado-6.1 voila-0.2.7\n"
          ],
          "name": "stdout"
        },
        {
          "output_type": "display_data",
          "data": {
            "application/vnd.colab-display-data+json": {
              "pip_warning": {
                "packages": [
                  "jupyter_client",
                  "nbconvert",
                  "tornado"
                ]
              }
            }
          },
          "metadata": {
            "tags": []
          }
        },
        {
          "output_type": "stream",
          "text": [
            "Enabling: voila\n",
            "- Writing config: /usr/etc/jupyter\n",
            "    - Validating...\n",
            "Error loading server extension voila\n",
            "     \u001b[31m X\u001b[0m is voila importable?\n"
          ],
          "name": "stdout"
        }
      ]
    },
    {
      "cell_type": "code",
      "metadata": {
        "id": "I0umjeKVl42A"
      },
      "source": [
        ""
      ],
      "execution_count": null,
      "outputs": []
    }
  ]
}