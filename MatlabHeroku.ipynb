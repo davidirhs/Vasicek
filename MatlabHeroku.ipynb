{
 "cells": [
  {
   "cell_type": "code",
   "execution_count": null,
   "metadata": {},
   "outputs": [],
   "source": [
    "from fastai.vision.widgets import *\n",
    "from random import uniform\n",
    "import numpy as np\n",
    "from scipy.stats import norm,norminvgauss\n",
    "import math  \n",
    "import matplotlib.pyplot as plt\n",
    "import seaborn as sns\n",
    "import pandas as pd"
   ]
  },
  {
   "cell_type": "code",
   "execution_count": null,
   "metadata": {},
   "outputs": [],
   "source": [
    "def frho(iPD):\n",
    "    rho = .12 * (1 - np.exp(-50 * iPD) / (1 - np.exp(-50))) + .24 * (1 - (1 - np.exp(-50 * iPD) / (1 - np.exp(-50))))\n",
    "    return rho"
   ]
  },
  {
   "cell_type": "code",
   "execution_count": null,
   "metadata": {},
   "outputs": [],
   "source": [
    "def fLossDistSim(iPD, lgd, loan, cntgn,NoS):\n",
    "\n",
    "    global df\n",
    "    x = np.random.rand(1, NoS)\n",
    "    rho = frho(iPD)\n",
    "# VaR999 - value at risk 99.9% valor esperado al 99.9\n",
    "    var999 = lgd * norm.cdf((np.sqrt(1 / (1 - rho))) * norm.ppf(iPD, 0, 1) + (np.sqrt(rho / (1 - rho))) *norm.ppf(0.999, 0, 1), 0, 1)\n",
    "# simulated loans LGD * \n",
    "    L = lgd * norm.cdf((np.sqrt(1 / (1 - rho))) * norm.ppf(iPD, 0, 1) + (np.sqrt(rho / (1 - rho))) * norm.ppf(x, 0, 1), 0, 1)\n",
    "  \n",
    "    \n",
    "    L1 = L * loan\n",
    "    L0 = L1 - var999 * loan\n",
    "    L3 = var999 * loan *lgd\n",
    "    L2 = iPD * lgd * loan\n",
    "    formula7=L3-L2\n",
    "    ##total loan pd Avg LGD\n",
    "    ##Formula 7 Capital\n",
    "#     L0 = L1 - var999 * loan \n",
    "    \n",
    "    #Expected Loss\n",
    "# #     plt.hist(L.flatten(), bins=2000)\n",
    "# #     plt.show()\n",
    "#     #Cuanto puedes perder fuera del tail Expected Value\n",
    "#     ind=np.transpose(np.where(L>var999,L,0))\n",
    "#     ind=ind[(ind>0)]\n",
    "# #     plt.hist(ind.flatten(), bins=2000)\n",
    "# #     plt.show()\n",
    "    F=formula7\n",
    "    df=df.assign(F=F)\n",
    "    df.to_csv (\"t.csv\", index = False, header=True)"
   ]
  },
  {
   "cell_type": "code",
   "execution_count": null,
   "metadata": {},
   "outputs": [],
   "source": [
    "btn_upload = widgets.FileUpload()\n",
    "btn_upload"
   ]
  },
  {
   "cell_type": "code",
   "execution_count": null,
   "metadata": {},
   "outputs": [],
   "source": [
    "btn_run = widgets.Button(description='Clasificar')\n",
    "btn_run"
   ]
  },
  {
   "cell_type": "code",
   "execution_count": null,
   "metadata": {},
   "outputs": [],
   "source": [
    "def on_click_classify(change):\n",
    "    with open(\"CSVTEST.csv\", \"w+b\") as i:\n",
    "      i.write(btn_upload.data[0])\n",
    "    df = pd.read_csv(\"CSVTEST.csv\", low_memory=False)\n",
    "    t=df.shape[0]\n",
    "    lgd = np.array(df[\"lgd\"]).reshape((t,1))\n",
    "    loan = np.array(df[\"loan\"]).reshape((t,1))\n",
    "    cntgn = np.array(df[\"cntgn\"]).reshape((t,1))\n",
    "    iPD = np.array(df[\"iPD\"]).reshape((t,1))\n",
    "    NoS = 1000000\n",
    "    fLossDistSim(iPD, lgd, loan, cntgn,NoS)\n",
    "\n",
    "btn_run.on_click(on_click_classify)"
   ]
  },
  {
   "cell_type": "code",
   "execution_count": null,
   "metadata": {},
   "outputs": [],
   "source": [
    "#hide_output\n",
    "VBox([widgets.Label('Select your bear!'), \n",
    "      btn_upload, btn_run])"
   ]
  }
 ],
 "metadata": {
  "kernelspec": {
   "display_name": "Python 3",
   "language": "python",
   "name": "python3"
  },
  "language_info": {
   "codemirror_mode": {
    "name": "ipython",
    "version": 3
   },
   "file_extension": ".py",
   "mimetype": "text/x-python",
   "name": "python",
   "nbconvert_exporter": "python",
   "pygments_lexer": "ipython3",
   "version": "3.7.7"
  }
 },
 "nbformat": 4,
 "nbformat_minor": 4
}
